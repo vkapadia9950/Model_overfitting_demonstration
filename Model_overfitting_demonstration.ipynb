{
 "cells": [
  {
   "cell_type": "code",
   "execution_count": 22,
   "metadata": {},
   "outputs": [],
   "source": [
    "#Importing Libraries\n",
    "import numpy as np\n",
    "from tensorflow.keras.datasets import mnist\n",
    "from tensorflow.keras.models import Sequential\n",
    "from tensorflow.keras.layers import Dense, Dropout, Conv2D, MaxPooling2D, Flatten\n",
    "from tensorflow.keras.callbacks import EarlyStopping\n",
    "from tensorflow.keras.utils import to_categorical\n",
    "import matplotlib.pyplot as plt\n"
   ]
  },
  {
   "cell_type": "code",
   "execution_count": 2,
   "metadata": {},
   "outputs": [],
   "source": [
    "# loading mnist data\n",
    "(X_train,y_train), (X_test,y_test) = mnist.load_data()\n"
   ]
  },
  {
   "cell_type": "code",
   "execution_count": 3,
   "metadata": {},
   "outputs": [],
   "source": [
    "# feature scaling and normalization\n",
    "training_images = X_train.reshape((60000, 28 , 28,1)).astype('float32') / 255\n",
    "training_targets = to_categorical(y_train)\n",
    "test_images = X_test.reshape((10000, 28 , 28,1)).astype('float32') / 255\n",
    "test_targets = to_categorical(y_test)\n",
    "input_shape = (training_images.shape[1],)\n"
   ]
  },
  {
   "cell_type": "code",
   "execution_count": 11,
   "metadata": {},
   "outputs": [],
   "source": [
    "# building the model\n",
    "model = Sequential()\n",
    "model.add(Conv2D(32,(3,3), activation='relu', input_shape=(28,28,1)))\n",
    "#model.add(MaxPooling2D((2,2)))\n",
    "#model.add(Conv2D(64, (3,3), activation='relu'))\n",
    "model.add(MaxPooling2D((2,2)))\n",
    "#model.add(Conv2D(64, (3,3), activation='relu'))\n",
    "model.add(Flatten())\n",
    "model.add(Dense(64, activation='relu'))\n",
    "model.add(Dense(10, activation='softmax'))\n",
    "\n",
    "\n",
    "\n"
   ]
  },
  {
   "cell_type": "code",
   "execution_count": 12,
   "metadata": {},
   "outputs": [],
   "source": [
    "#Compiling model\n",
    "model.compile(optimizer='adam',loss='categorical_crossentropy', metrics=['accuracy'])"
   ]
  },
  {
   "cell_type": "code",
   "execution_count": 13,
   "metadata": {},
   "outputs": [
    {
     "name": "stdout",
     "output_type": "stream",
     "text": [
      "Train on 42000 samples, validate on 18000 samples\n",
      "Epoch 1/50\n",
      "42000/42000 [==============================] - 13s 312us/sample - loss: 0.1976 - acc: 0.9410 - val_loss: 0.1071 - val_acc: 0.9669\n",
      "Epoch 2/50\n",
      "42000/42000 [==============================] - 13s 305us/sample - loss: 0.0677 - acc: 0.9790 - val_loss: 0.0701 - val_acc: 0.9787\n",
      "Epoch 3/50\n",
      "42000/42000 [==============================] - 13s 308us/sample - loss: 0.0461 - acc: 0.9859 - val_loss: 0.0601 - val_acc: 0.9822\n",
      "Epoch 4/50\n",
      "42000/42000 [==============================] - 14s 326us/sample - loss: 0.0328 - acc: 0.9898 - val_loss: 0.0763 - val_acc: 0.9789\n",
      "Epoch 5/50\n",
      "42000/42000 [==============================] - 14s 335us/sample - loss: 0.0234 - acc: 0.9929 - val_loss: 0.0551 - val_acc: 0.9840\n",
      "Epoch 6/50\n",
      "42000/42000 [==============================] - 14s 326us/sample - loss: 0.0167 - acc: 0.9949 - val_loss: 0.0620 - val_acc: 0.9821\n",
      "Epoch 7/50\n",
      "42000/42000 [==============================] - 14s 322us/sample - loss: 0.0107 - acc: 0.9970 - val_loss: 0.0624 - val_acc: 0.9826\n",
      "Epoch 8/50\n",
      "42000/42000 [==============================] - 14s 322us/sample - loss: 0.0097 - acc: 0.9970 - val_loss: 0.0718 - val_acc: 0.9827\n",
      "Epoch 9/50\n",
      "42000/42000 [==============================] - 14s 340us/sample - loss: 0.0072 - acc: 0.9980 - val_loss: 0.0818 - val_acc: 0.9818\n",
      "Epoch 10/50\n",
      "42000/42000 [==============================] - 14s 332us/sample - loss: 0.0063 - acc: 0.9978 - val_loss: 0.0693 - val_acc: 0.9838\n",
      "Epoch 11/50\n",
      "42000/42000 [==============================] - 14s 325us/sample - loss: 0.0043 - acc: 0.9987 - val_loss: 0.0676 - val_acc: 0.9835\n",
      "Epoch 12/50\n",
      "42000/42000 [==============================] - 14s 329us/sample - loss: 0.0048 - acc: 0.9987 - val_loss: 0.0844 - val_acc: 0.9813\n",
      "Epoch 13/50\n",
      "42000/42000 [==============================] - 14s 341us/sample - loss: 0.0041 - acc: 0.9986 - val_loss: 0.0721 - val_acc: 0.9841\n",
      "Epoch 14/50\n",
      "42000/42000 [==============================] - 14s 332us/sample - loss: 0.0036 - acc: 0.9989 - val_loss: 0.0860 - val_acc: 0.9824\n",
      "Epoch 15/50\n",
      "42000/42000 [==============================] - 14s 328us/sample - loss: 0.0034 - acc: 0.9988 - val_loss: 0.0936 - val_acc: 0.9824\n",
      "Epoch 16/50\n",
      "42000/42000 [==============================] - 14s 327us/sample - loss: 0.0033 - acc: 0.9986 - val_loss: 0.0795 - val_acc: 0.9845\n",
      "Epoch 17/50\n",
      "42000/42000 [==============================] - 14s 324us/sample - loss: 0.0032 - acc: 0.9988 - val_loss: 0.0775 - val_acc: 0.9839\n",
      "Epoch 18/50\n",
      "42000/42000 [==============================] - 16s 377us/sample - loss: 9.5352e-04 - acc: 0.9998 - val_loss: 0.0770 - val_acc: 0.9871\n",
      "Epoch 19/50\n",
      "42000/42000 [==============================] - 14s 324us/sample - loss: 9.1374e-05 - acc: 1.0000 - val_loss: 0.0781 - val_acc: 0.9867\n",
      "Epoch 20/50\n",
      "42000/42000 [==============================] - 13s 306us/sample - loss: 3.4757e-05 - acc: 1.0000 - val_loss: 0.0801 - val_acc: 0.9866\n",
      "Epoch 21/50\n",
      "42000/42000 [==============================] - 13s 311us/sample - loss: 1.4158e-05 - acc: 1.0000 - val_loss: 0.0810 - val_acc: 0.9872\n",
      "Epoch 22/50\n",
      "42000/42000 [==============================] - 13s 312us/sample - loss: 9.6391e-06 - acc: 1.0000 - val_loss: 0.0838 - val_acc: 0.9871\n",
      "Epoch 23/50\n",
      "42000/42000 [==============================] - 15s 354us/sample - loss: 6.0937e-06 - acc: 1.0000 - val_loss: 0.0844 - val_acc: 0.9876\n",
      "Epoch 24/50\n",
      "42000/42000 [==============================] - 13s 319us/sample - loss: 0.0063 - acc: 0.9981 - val_loss: 0.0854 - val_acc: 0.9836\n",
      "Epoch 25/50\n",
      "42000/42000 [==============================] - 14s 328us/sample - loss: 0.0033 - acc: 0.9990 - val_loss: 0.0924 - val_acc: 0.9843\n",
      "Epoch 26/50\n",
      "42000/42000 [==============================] - 14s 323us/sample - loss: 0.0015 - acc: 0.9995 - val_loss: 0.0887 - val_acc: 0.9856\n",
      "Epoch 27/50\n",
      "42000/42000 [==============================] - 14s 324us/sample - loss: 3.0148e-04 - acc: 1.0000 - val_loss: 0.0981 - val_acc: 0.9836\n",
      "Epoch 28/50\n",
      "42000/42000 [==============================] - 13s 320us/sample - loss: 0.0035 - acc: 0.9990 - val_loss: 0.0874 - val_acc: 0.9851\n",
      "Epoch 29/50\n",
      "42000/42000 [==============================] - 14s 333us/sample - loss: 0.0024 - acc: 0.9993 - val_loss: 0.1022 - val_acc: 0.9824\n",
      "Epoch 30/50\n",
      "42000/42000 [==============================] - 14s 336us/sample - loss: 0.0011 - acc: 0.9995 - val_loss: 0.0930 - val_acc: 0.9853\n",
      "Epoch 31/50\n",
      "42000/42000 [==============================] - 14s 344us/sample - loss: 5.7625e-04 - acc: 0.9999 - val_loss: 0.0989 - val_acc: 0.9846\n",
      "Epoch 32/50\n",
      "42000/42000 [==============================] - 14s 325us/sample - loss: 0.0036 - acc: 0.9989 - val_loss: 0.0904 - val_acc: 0.9852\n",
      "Epoch 33/50\n",
      "42000/42000 [==============================] - 14s 343us/sample - loss: 8.9131e-04 - acc: 0.9997 - val_loss: 0.0986 - val_acc: 0.9848\n",
      "Epoch 34/50\n",
      "42000/42000 [==============================] - 14s 331us/sample - loss: 0.0016 - acc: 0.9994 - val_loss: 0.1052 - val_acc: 0.9834\n",
      "Epoch 35/50\n",
      "42000/42000 [==============================] - 14s 323us/sample - loss: 0.0013 - acc: 0.9996 - val_loss: 0.1001 - val_acc: 0.9852\n",
      "Epoch 36/50\n",
      "42000/42000 [==============================] - 13s 310us/sample - loss: 8.2765e-04 - acc: 0.9996 - val_loss: 0.1381 - val_acc: 0.9781\n",
      "Epoch 37/50\n",
      "42000/42000 [==============================] - 13s 316us/sample - loss: 0.0022 - acc: 0.9993 - val_loss: 0.1044 - val_acc: 0.9840\n",
      "Epoch 38/50\n",
      "42000/42000 [==============================] - 13s 312us/sample - loss: 0.0012 - acc: 0.9995 - val_loss: 0.1090 - val_acc: 0.9844\n",
      "Epoch 39/50\n",
      "42000/42000 [==============================] - 15s 346us/sample - loss: 0.0027 - acc: 0.9991 - val_loss: 0.1029 - val_acc: 0.9846\n",
      "Epoch 40/50\n",
      "42000/42000 [==============================] - 14s 327us/sample - loss: 0.0016 - acc: 0.9996 - val_loss: 0.1187 - val_acc: 0.9826\n",
      "Epoch 41/50\n",
      "42000/42000 [==============================] - 14s 329us/sample - loss: 2.4360e-04 - acc: 1.0000 - val_loss: 0.0996 - val_acc: 0.9846\n",
      "Epoch 42/50\n",
      "42000/42000 [==============================] - 13s 321us/sample - loss: 1.4523e-05 - acc: 1.0000 - val_loss: 0.0979 - val_acc: 0.9850\n",
      "Epoch 43/50\n",
      "42000/42000 [==============================] - 14s 323us/sample - loss: 5.2123e-06 - acc: 1.0000 - val_loss: 0.0978 - val_acc: 0.9852\n",
      "Epoch 44/50\n",
      "42000/42000 [==============================] - 13s 321us/sample - loss: 3.3108e-06 - acc: 1.0000 - val_loss: 0.0988 - val_acc: 0.9853\n",
      "Epoch 45/50\n",
      "42000/42000 [==============================] - 13s 315us/sample - loss: 2.1024e-06 - acc: 1.0000 - val_loss: 0.0994 - val_acc: 0.9857\n",
      "Epoch 46/50\n",
      "42000/42000 [==============================] - 14s 322us/sample - loss: 1.2951e-06 - acc: 1.0000 - val_loss: 0.1000 - val_acc: 0.9856\n",
      "Epoch 47/50\n",
      "42000/42000 [==============================] - 13s 320us/sample - loss: 8.0440e-07 - acc: 1.0000 - val_loss: 0.1021 - val_acc: 0.9857\n",
      "Epoch 48/50\n",
      "42000/42000 [==============================] - 13s 317us/sample - loss: 5.1188e-07 - acc: 1.0000 - val_loss: 0.1038 - val_acc: 0.9861\n",
      "Epoch 49/50\n",
      "42000/42000 [==============================] - 13s 320us/sample - loss: 3.4234e-07 - acc: 1.0000 - val_loss: 0.1059 - val_acc: 0.9864\n",
      "Epoch 50/50\n",
      "42000/42000 [==============================] - 13s 316us/sample - loss: 2.4648e-07 - acc: 1.0000 - val_loss: 0.1075 - val_acc: 0.9862\n"
     ]
    }
   ],
   "source": [
    "# Fitting Model to training data\n",
    "history = model.fit(training_images, training_targets, validation_split=0.3, epochs=50)"
   ]
  },
  {
   "cell_type": "code",
   "execution_count": 21,
   "metadata": {},
   "outputs": [
    {
     "data": {
      "image/png": "[encoded data removed]",
      "text/plain": [
       "<Figure size 432x288 with 1 Axes>"
      ]
     },
     "metadata": {
      "needs_background": "light"
     },
     "output_type": "display_data"
    }
   ],
   "source": [
    "#Plotting the graph for train loss and validation loss\n",
    "plt.plot(history.history['loss'], 'k-', label = 'Loss of Training Data')\n",
    "plt.plot(history.history['val_loss'], 'r-', label = 'Loss of Validation Data')\n",
    "plt.xlabel('Epochs')\n",
    "plt.ylabel('Loss')\n",
    "plt.legend()\n",
    "plt.show()"
   ]
  },
  {
   "cell_type": "code",
   "execution_count": null,
   "metadata": {},
   "outputs": [],
   "source": []
  }
 ],
 "metadata": {
  "kernelspec": {
   "display_name": "Python 3",
   "language": "python",
   "name": "python3"
  },
  "language_info": {
   "codemirror_mode": {
    "name": "ipython",
    "version": 3
   },
   "file_extension": ".py",
   "mimetype": "text/x-python",
   "name": "python",
   "nbconvert_exporter": "python",
   "pygments_lexer": "ipython3",
   "version": "3.7.3"
  }
 },
 "nbformat": 4,
 "nbformat_minor": 2
}
